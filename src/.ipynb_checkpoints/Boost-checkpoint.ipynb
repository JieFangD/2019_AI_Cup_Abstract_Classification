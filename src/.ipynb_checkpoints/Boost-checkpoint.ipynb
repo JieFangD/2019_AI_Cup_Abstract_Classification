{
 "cells": [
  {
   "cell_type": "code",
   "execution_count": null,
   "metadata": {},
   "outputs": [],
   "source": [
    "import numpy as np\n",
    "import os\n",
    "import pandas as pd\n",
    "import matplotlib.pyplot as plt\n",
    "import scipy.io\n",
    "from util import *"
   ]
  },
  {
   "cell_type": "markdown",
   "metadata": {},
   "source": [
    "# Soft Boost"
   ]
  },
  {
   "cell_type": "code",
   "execution_count": null,
   "metadata": {},
   "outputs": [],
   "source": [
    "score_vec = []\n",
    "result = 0\n",
    "weight = 0\n",
    "for f in os.listdir('./Results_Testing'):\n",
    "    score = f.split('_')[0]\n",
    "    if(float(score) > 0.71):\n",
    "        print(f)\n",
    "        d = scipy.io.loadmat('./Results_Testing/'+f)\n",
    "        score_vec.append(float(score))\n",
    "        result += float(score)*d['result'][:,0:3]\n",
    "        weight += float(score)*d['best_weight'].flatten()[0:3]\n",
    "result /= sum(score_vec)\n",
    "weight /= sum(score_vec)\n",
    "\n",
    "for i in range(3):\n",
    "    result[:,i] = (result[:,i] > weight[i])*1.0\n",
    "result = ExtendLabel(result)\n",
    "theoretical = np.hstack([np.zeros(20000), result[:,0]])\n",
    "engineering = np.hstack([np.zeros(20000), result[:,1]])\n",
    "empirical = np.hstack([np.zeros(20000), result[:,2]])\n",
    "others = np.hstack([np.zeros(20000), result[:,3]])"
   ]
  },
  {
   "cell_type": "code",
   "execution_count": null,
   "metadata": {},
   "outputs": [],
   "source": [
    "from datetime import datetime\n",
    "now = datetime.now()\n",
    "sample = pd.read_csv('../data2/task2_sample_submission.csv')\n",
    "submit = {}\n",
    "submit['order_id'] = list(sample.order_id.values)\n",
    "submit['THEORETICAL'] = list((theoretical > 0.5)*1.0)\n",
    "submit['ENGINEERING'] = list((engineering > 0.5)*1.0)\n",
    "submit['EMPIRICAL'] = list((empirical > 0.5)*1.0)\n",
    "submit['OTHERS'] = list((others > 0.5)*1.0)\n",
    "df = pd.DataFrame.from_dict(submit)\n",
    "time = now.strftime(\"%D_%H_%M_%S\").replace('/','_')\n",
    "df.to_csv('../upload2/Boost_soft_{0}.csv'.format(time),index=False)"
   ]
  }
 ],
 "metadata": {
  "kernelspec": {
   "display_name": "Python 3",
   "language": "python",
   "name": "python3"
  },
  "language_info": {
   "codemirror_mode": {
    "name": "ipython",
    "version": 3
   },
   "file_extension": ".py",
   "mimetype": "text/x-python",
   "name": "python",
   "nbconvert_exporter": "python",
   "pygments_lexer": "ipython3",
   "version": "3.6.8"
  }
 },
 "nbformat": 4,
 "nbformat_minor": 2
}
